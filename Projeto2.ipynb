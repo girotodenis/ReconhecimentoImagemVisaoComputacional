{
  "nbformat": 4,
  "nbformat_minor": 0,
  "metadata": {
    "colab": {
      "name": "Projeto2.ipynb",
      "provenance": [],
      "collapsed_sections": [],
      "include_colab_link": true
    },
    "kernelspec": {
      "name": "python3",
      "display_name": "Python 3"
    }
  },
  "cells": [
    {
      "cell_type": "markdown",
      "metadata": {
        "id": "view-in-github",
        "colab_type": "text"
      },
      "source": [
        "<a href=\"https://colab.research.google.com/github/girotodenis/ReconhecimentoImagemVisaoComputacional/blob/master/Projeto2.ipynb\" target=\"_parent\"><img src=\"https://colab.research.google.com/assets/colab-badge.svg\" alt=\"Open In Colab\"/></a>"
      ]
    },
    {
      "cell_type": "markdown",
      "metadata": {
        "id": "rL3maMg1Iib3"
      },
      "source": [
        "NOME COMPLETO DOS INTEGRANTES DO GRUPO:\n",
        "**Davi Miranda Gonçalves**, \n",
        "**Denis SIlva Giroto**,\n",
        "**Naiara Moura Pires**\n",
        "\n",
        "MATRÍCULAS DOS INTEGRANTES DO GRUPO:\n",
        "**1931143030**,\n",
        "**1931143029**,\n",
        "**1931143033**"
      ]
    },
    {
      "cell_type": "code",
      "metadata": {
        "colab": {
          "base_uri": "https://localhost:8080/"
        },
        "id": "XkvFwxujQfNO",
        "outputId": "26b44680-a40e-46d3-daf7-701340752803"
      },
      "source": [
        "!git clone -l -s https://github.com/girotodenis/ReconhecimentoImagemVisaoComputacional.git projeto\n",
        "#%cd cloned-repo\n",
        "!ls"
      ],
      "execution_count": 1,
      "outputs": [
        {
          "output_type": "stream",
          "text": [
            "Cloning into 'projeto'...\n",
            "warning: --local is ignored\n",
            "remote: Enumerating objects: 40, done.\u001b[K\n",
            "remote: Counting objects: 100% (40/40), done.\u001b[K\n",
            "remote: Compressing objects: 100% (39/39), done.\u001b[K\n",
            "remote: Total 224 (delta 16), reused 9 (delta 1), pack-reused 184\u001b[K\n",
            "Receiving objects: 100% (224/224), 97.83 MiB | 36.49 MiB/s, done.\n",
            "Resolving deltas: 100% (95/95), done.\n",
            "projeto  sample_data\n"
          ],
          "name": "stdout"
        }
      ]
    },
    {
      "cell_type": "code",
      "metadata": {
        "colab": {
          "base_uri": "https://localhost:8080/"
        },
        "id": "LWN2op2htlmt",
        "outputId": "eca00050-4c13-425e-bb3e-c10cd0f02080"
      },
      "source": [
        "!curl -LJO https://github.com/AlexeyAB/darknet/releases/download/darknet_yolo_v3_optimal/yolov3.weights --output yolov3.weights"
      ],
      "execution_count": 2,
      "outputs": [
        {
          "output_type": "stream",
          "text": [
            "  % Total    % Received % Xferd  Average Speed   Time    Time     Time  Current\n",
            "                                 Dload  Upload   Total   Spent    Left  Speed\n",
            "100   638  100   638    0     0   4400      0 --:--:-- --:--:-- --:--:--  4430\n",
            "100  236M  100  236M    0     0  19.8M      0  0:00:11  0:00:11 --:--:-- 32.2M\n",
            "curl: Saved to filename 'yolov3.weights'\n"
          ],
          "name": "stdout"
        }
      ]
    },
    {
      "cell_type": "code",
      "metadata": {
        "colab": {
          "base_uri": "https://localhost:8080/"
        },
        "id": "HerqgTOuiQON",
        "outputId": "a89bc888-5a3c-4444-a60a-4b6cc40c840e"
      },
      "source": [
        "%ls 'projeto' "
      ],
      "execution_count": 3,
      "outputs": [
        {
          "output_type": "stream",
          "text": [
            "Atividade1.ipynb  gravar_video.ipynb  Projeto3.ipynb  README.md   yolov4.cfg\n",
            "Atividade2.ipynb  \u001b[0m\u001b[01;34mimagens\u001b[0m/            Projeto4.ipynb  \u001b[01;34mvideos\u001b[0m/\n",
            "coco.names        Projeto2.ipynb      Projeto.ipynb   yolov3.cfg\n"
          ],
          "name": "stdout"
        }
      ]
    },
    {
      "cell_type": "code",
      "metadata": {
        "id": "ylGcL0CrFNeO"
      },
      "source": [
        "from google.colab.patches import cv2_imshow\n",
        "\n",
        "import numpy as np\n",
        "import cv2\n",
        "import imutils\n",
        "\n",
        "import time \n"
      ],
      "execution_count": 4,
      "outputs": []
    },
    {
      "cell_type": "code",
      "metadata": {
        "id": "7gY1Rr6kBCMk"
      },
      "source": [
        "net = cv2.dnn.readNet('yolov3.weights','./projeto/yolov3.cfg')"
      ],
      "execution_count": 5,
      "outputs": []
    },
    {
      "cell_type": "code",
      "metadata": {
        "colab": {
          "base_uri": "https://localhost:8080/"
        },
        "id": "QL5GCkCnBNuN",
        "outputId": "30e19531-f466-481a-c7ea-e3b7866861f0"
      },
      "source": [
        "classes = []\n",
        "with open('./projeto/coco.names','r')as f:\n",
        "  classes = [line.strip() for line in f.readlines()]\n",
        "print(classes)\n",
        "\n",
        "layer_names = net.getLayerNames()\n",
        "outputLayers = [layer_names[i[0]-1] for i in net.getUnconnectedOutLayers()]\n",
        "print(outputLayers)\n",
        "\n",
        "cores = np.random.uniform(0,255,size=(len(classes), 3))"
      ],
      "execution_count": 41,
      "outputs": [
        {
          "output_type": "stream",
          "text": [
            "['person', 'bicycle', 'car', 'motorbike', 'aeroplane', 'bus', 'train', 'truck', 'boat', 'traffic light', 'fire hydrant', 'stop sign', 'parking meter', 'bench', 'bird', 'cat', 'dog', 'horse', 'sheep', 'cow', 'elephant', 'bear', 'zebra', 'giraffe', 'backpack', 'umbrella', 'handbag', 'tie', 'suitcase', 'frisbee', 'skis', 'snowboard', 'sports ball', 'kite', 'baseball bat', 'baseball glove', 'skateboard', 'surfboard', 'tennis racket', 'bottle', 'wine glass', 'cup', 'fork', 'knife', 'spoon', 'bowl', 'banana', 'apple', 'sandwich', 'orange', 'broccoli', 'carrot', 'hot dog', 'pizza', 'donut', 'cake', 'chair', 'sofa', 'pottedplant', 'bed', 'diningtable', 'toilet', 'tvmonitor', 'laptop', 'mouse', 'remote', 'keyboard', 'cell phone', 'microwave', 'oven', 'toaster', 'sink', 'refrigerator', 'book', 'clock', 'vase', 'scissors', 'teddy bear', 'hair drier', 'toothbrush']\n",
            "['yolo_82', 'yolo_94', 'yolo_106']\n"
          ],
          "name": "stdout"
        }
      ]
    },
    {
      "cell_type": "code",
      "metadata": {
        "id": "xF_oNKZHPKD1"
      },
      "source": [
        "def encontrar_objetos_dnn(outs):\n",
        "  class_ids = []\n",
        "  confidences = []\n",
        "  boxes = []\n",
        "\n",
        "  for out in outs:\n",
        "    for detection in out:\n",
        "      scores = detection[5:]\n",
        "      class_id = np.argmax(scores)\n",
        "      confidence = scores[class_id]\n",
        "\n",
        "      if confidence>0.7:\n",
        "        x,y,w,h,cx,cy = calcula_box(detection,width,height)\n",
        "        boxes.append([x,y,w,h,cx,cy])\n",
        "        confidences.append(confidence)\n",
        "        class_ids.append(class_id)\n",
        "      \n",
        "      # print(class_ids)\n",
        "\n",
        "  return class_ids, confidences, boxes"
      ],
      "execution_count": 42,
      "outputs": []
    },
    {
      "cell_type": "code",
      "metadata": {
        "id": "veNwyFMbQvxU"
      },
      "source": [
        "def calcula_box(detection, width, height):\n",
        "  center_x = int(detection[0]*width)\n",
        "  center_y = int(detection[1]*height)\n",
        "  w = int(detection[2]*width)\n",
        "  h = int(detection[3]*height)\n",
        "  x = int(center_x - w/2)\n",
        "  y = int(center_y - h/2)\n",
        "  return [x,y,w,h,center_x,center_y]"
      ],
      "execution_count": 43,
      "outputs": []
    },
    {
      "cell_type": "code",
      "metadata": {
        "id": "CYEyP_jvbZwt"
      },
      "source": [
        "def desenha_box(frame, boxes, class_ids, confidences):\n",
        "  for i in range(len(boxes)):\n",
        "    x,y,w,h,cx,cy = boxes[i]\n",
        "    label = str(classes[class_ids[i]])\n",
        "    label += ' '+ str(round(confidences[i],2))\n",
        "    cor = cores[class_ids[i]]\n",
        "    cv2.rectangle(frame,(x ,y),(x+w, y+h),cor, 2)\n",
        "    cv2.putText(frame, label, (x, y+30), cv2.FONT_HERSHEY_PLAIN,1,(255,255,255),2)"
      ],
      "execution_count": 44,
      "outputs": []
    },
    {
      "cell_type": "code",
      "metadata": {
        "id": "5JgK4B6UqQns"
      },
      "source": [
        "carros_detectados = []\n",
        "\n",
        "h_bins = 50\n",
        "s_bins = 60\n",
        "histSize = [h_bins, s_bins]\n",
        "# hue varies from 0 to 179, saturation from 0 to 255\n",
        "h_ranges = [0, 180]\n",
        "s_ranges = [0, 256]\n",
        "ranges = h_ranges + s_ranges # concat lists\n",
        "# Use the 0-th and 1-st channels\n",
        "channels = [0, 1]\n",
        "\n",
        "def registrar_carro(frame, box):\n",
        "  x,y,w,h,cx,cy = box\n",
        "  crop_box = frame[y:y+h, x:x+w]\n",
        "  gray_crop_box = cv2.cvtColor(crop_box, cv2.COLOR_BGR2HSV) \n",
        "  exists = _check_similarity(gray_crop_box)\n",
        "\n",
        "  if (exists) :  \n",
        "    carros_detectados.append(gray_crop_box)\n",
        "\n",
        "  return carros_detectados\n",
        "\n",
        "def _check_similarity(gray_crop_box):\n",
        "  \n",
        "  cropped_image_histogram = cv2.calcHist([gray_crop_box], channels, None, histSize, ranges, accumulate=False)\n",
        "\n",
        "  if (len(carros_detectados) == 0):\n",
        "    return True\n",
        "  \n",
        "  exists = False;\n",
        "\n",
        "  for detected in carros_detectados:\n",
        "    detected_hist = cv2.calcHist([detected], channels, None, histSize, ranges, accumulate=False)\n",
        "\n",
        "    # https://docs.opencv.org/3.4/d8/dc8/tutorial_histogram_comparison.html\n",
        "    # https://docs.opencv.org/4.1.2/d6/dc7/group__imgproc__hist.html#gaf4190090efa5c47cb367cf97a9a519bd\n",
        "    # https://docs.opencv.org/4.1.2/d6/dc7/group__imgproc__hist.html#ga994f53817d621e2e4228fc646342d386\n",
        "    a = cv2.compareHist(cropped_image_histogram, detected_hist, cv2.HISTCMP_CORREL)\n",
        "    \n",
        "    if (a > 0.90):\n",
        "      exists = True\n",
        "      break \n",
        "\n",
        "  return exists"
      ],
      "execution_count": 45,
      "outputs": []
    },
    {
      "cell_type": "code",
      "metadata": {
        "id": "l8pN6FUVC71Z",
        "outputId": "67634ee0-e530-400c-db2f-e418c022783f",
        "colab": {
          "base_uri": "https://localhost:8080/"
        }
      },
      "source": [
        "cap = cv2.VideoCapture('./projeto/videos/Car2165.mp4')\n",
        "width = int(cap.get(cv2.CAP_PROP_FRAME_WIDTH))\n",
        "height = int(cap.get(cv2.CAP_PROP_FRAME_HEIGHT))\n",
        "writer = cv2.VideoWriter('./projeto/videos/novo_Car2165.mp4', cv2.VideoWriter_fourcc(*'DIVX'),20,(width, height))\n",
        "\n",
        "print(width, height)\n",
        "if cap.isOpened() == False:\n",
        "    print('error file not found')\n",
        "\n",
        "cod_frame=0\n",
        "inicio = int(round(time.time() * 1000))\n",
        "detectados = []\n",
        "\n",
        "carros = 0\n",
        "\n",
        "while cap.isOpened():\n",
        "    cod_frame+=1\n",
        "    ret, frame = cap.read()\n",
        "    if ret == True:\n",
        "\n",
        "        #BGR -> RGB\n",
        "        blob = cv2.dnn.blobFromImage(frame, 0.00392,(320,320),(0,0,0),True)\n",
        "        net.setInput(blob)\n",
        "        outs = net.forward(outputLayers)\n",
        "\n",
        "        class_ids ,confidences , boxes = encontrar_objetos_dnn(outs)\n",
        "\n",
        "        desenha_box(frame, boxes, class_ids, confidences)\n",
        "\n",
        "        for i in range(len(boxes)):\n",
        "          x,y,w,h,cx,cy = boxes[i]\n",
        "          # detectados.append((x,y,w,h,cx,cy))\n",
        "          carros = len(registrar_carro(frame, boxes[i]))\n",
        "          cv2.circle(frame, (cx,cy) , 4, (0, 0, 255), -1)        \n",
        "\n",
        "        # for (x,y,w,h,cx,cy) in detectados:\n",
        "        #   if (390 + 8) > cy > (390 - 8):\n",
        "        #     carros += 1\n",
        "        #     detectados.remove((x,y,w,h,cx,cy))\n",
        "        #     print(\"Carros detectados: \" + str(carros))\n",
        "\n",
        "        text = f'Carros: {carros}'\n",
        "\n",
        "        print(text)\n",
        "\n",
        "        cv2.putText(frame, text, (0, 70), cv2.FONT_HERSHEY_SIMPLEX, 2, (0, 0, 255), 5)\n",
        "        \n",
        "        # MELHORAR PERFOMANCE, POR ISSO COMENTADO\n",
        "        # if cod_frame % 25 == 0:\n",
        "        #   nome_foto = 'foto_'+str(cod_frame)+'.png'\n",
        "        #   cv2.imwrite(nome_foto, imutils.resize(frame, width=500))\n",
        "        #   cv2_imshow(cv2.imread(nome_foto))\n",
        "        #   #cv2_imshow(frame_volume_objetos)\n",
        "        #   print(cod_frame, boxes, confidences, class_ids)\n",
        "        \n",
        "        \n",
        "        writer.write(frame)\n",
        "\n",
        "    else:\n",
        "        break\n",
        "\n",
        "\n",
        "\n",
        "cap.release()\n",
        "writer.release()"
      ],
      "execution_count": 46,
      "outputs": [
        {
          "output_type": "stream",
          "text": [
            "1280 720\n"
          ],
          "name": "stdout"
        }
      ]
    },
    {
      "cell_type": "code",
      "metadata": {
        "id": "SHxw-_iOD15p"
      },
      "source": [
        ""
      ],
      "execution_count": null,
      "outputs": []
    },
    {
      "cell_type": "code",
      "metadata": {
        "id": "WmENe4NdP_if"
      },
      "source": [
        "subtracao = cv2.bgsegm.createBackgroundSubtractorMOG()  # Pega o fundo e subtrai do que está se movendo\n",
        "def preprocesso_encontrar_objetos_bordas(frame1):\n",
        "  grey = cv2.cvtColor(frame1, cv2.COLOR_BGR2GRAY)  # Pega o frame e transforma para preto e branco\n",
        "  blur = cv2.GaussianBlur(grey, (3, 3), 5)  # Faz um blur para tentar remover as imperfeições da imagem\n",
        "  img_sub = subtracao.apply(blur)  # Faz a subtração da imagem aplicada no blur\n",
        "  dilat = cv2.dilate(img_sub, np.ones((5, 5)))  # \"Engrossa\" o que sobrou da subtração\n",
        "  kernel = cv2.getStructuringElement(cv2.MORPH_ELLIPSE, (5, 5))  # Cria uma matriz 5x5, em que o formato da matriz entre 0 e 1 forma uma elipse dentro\n",
        "  dilatada = cv2.morphologyEx(dilat, cv2.MORPH_CLOSE, kernel)  # Tenta preencher todos os \"buracos\" da imagem\n",
        "  dilatada = cv2.morphologyEx(dilatada, cv2.MORPH_CLOSE, kernel)\n",
        "  return dilatada"
      ],
      "execution_count": null,
      "outputs": []
    },
    {
      "cell_type": "code",
      "metadata": {
        "id": "gV8VRKkiJ7rI"
      },
      "source": [
        "def desenha_retangulo_objeto(original, objeto_movimento):\n",
        "  centros = []\n",
        "  contorno, img = cv2.findContours(objeto_movimento, cv2.RETR_TREE, cv2.CHAIN_APPROX_SIMPLE)\n",
        "  for (i, c) in enumerate(contorno):\n",
        "    (x, y, w, h) = cv2.boundingRect(c)\n",
        "    validar_contorno = (w >= 50) and (h >= 50)\n",
        "    if not validar_contorno:\n",
        "        continue\n",
        "    cv2.rectangle(original, (x, y), (x + w, y + h), (0, 255, 0), 2)\n",
        "    x1 = w // 2\n",
        "    y1 = h // 2\n",
        "    cx = x + x1\n",
        "    cy = y + y1\n",
        "    centros.append((cx,cy))\n",
        "  return centros\n"
      ],
      "execution_count": null,
      "outputs": []
    },
    {
      "cell_type": "code",
      "metadata": {
        "id": "CCWHIhKIJUnj"
      },
      "source": [
        "cap = cv2.VideoCapture('./projeto/videos/Car2165.mp4')\n",
        "width = int(cap.get(cv2.CAP_PROP_FRAME_WIDTH))\n",
        "height = int(cap.get(cv2.CAP_PROP_FRAME_HEIGHT))\n",
        "writer = cv2.VideoWriter('./projeto/videos/novo2_Car2165.mp4', cv2.VideoWriter_fourcc(*'DIVX'),20,(width, height))\n",
        "\n",
        "print(width, height)\n",
        "if cap.isOpened() == False:\n",
        "    print('error file not found')\n",
        "\n",
        "cod_frame=0\n",
        "\n",
        "encontrados = []\n",
        "\n",
        "carros = 0\n",
        "\n",
        "inicio = int(round(time.time() * 1000))\n",
        "while cap.isOpened():\n",
        "    cod_frame+=1\n",
        "    ret, frame = cap.read()\n",
        "    if ret == True:\n",
        "        frame_volume_objetos = preprocesso_encontrar_objetos_bordas(frame)\n",
        "        centros = desenha_retangulo_objeto(frame, frame_volume_objetos)\n",
        "        \n",
        "        for c in centros:\n",
        "          encontrados.append( c )\n",
        "          cv2.circle(frame, c, 4, (0, 0, 255), -1)\n",
        "        \n",
        "        for (cx,cy) in encontrados:\n",
        "          if (390 + 6) > cy > (390 - 6):\n",
        "            carros += 1\n",
        "            encontrados.remove((cx,cy))\n",
        "            print(\"Carros encontrados: \" + str(carros))\n",
        "\n",
        "        text = f'Carros: {carros}'\n",
        "        cv2.putText(frame, text, (0, 70), cv2.FONT_HERSHEY_SIMPLEX, 2, (0, 0, 255), 5)\n",
        "        \n",
        "        \n",
        "        if cod_frame % 25 == 0:\n",
        "          nome_foto = 'foto_'+str(cod_frame)+'.png'\n",
        "          cv2.imwrite(nome_foto, imutils.resize(frame, width=500))\n",
        "          cv2_imshow(cv2.imread(nome_foto))\n",
        "          cv2_imshow(imutils.resize(frame_volume_objetos, width=500) )\n",
        "        \n",
        "        \n",
        "        writer.write(frame)\n",
        "\n",
        "        time.sleep(float(1 / 25))\n",
        "\n",
        "    else:\n",
        "        break\n",
        "\n",
        "\n",
        "cap.release()\n",
        "writer.release()\n"
      ],
      "execution_count": null,
      "outputs": []
    },
    {
      "cell_type": "code",
      "metadata": {
        "id": "et3-RLHHaqAW"
      },
      "source": [
        ""
      ],
      "execution_count": null,
      "outputs": []
    }
  ]
}