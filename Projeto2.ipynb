{
  "nbformat": 4,
  "nbformat_minor": 0,
  "metadata": {
    "colab": {
      "name": "Projeto2.ipynb",
      "provenance": [],
      "collapsed_sections": [],
      "include_colab_link": true
    },
    "kernelspec": {
      "name": "python3",
      "display_name": "Python 3"
    }
  },
  "cells": [
    {
      "cell_type": "markdown",
      "metadata": {
        "id": "view-in-github",
        "colab_type": "text"
      },
      "source": [
        "<a href=\"https://colab.research.google.com/github/girotodenis/ReconhecimentoImagemVisaoComputacional/blob/master/Projeto2.ipynb\" target=\"_parent\"><img src=\"https://colab.research.google.com/assets/colab-badge.svg\" alt=\"Open In Colab\"/></a>"
      ]
    },
    {
      "cell_type": "markdown",
      "metadata": {
        "id": "rL3maMg1Iib3"
      },
      "source": [
        "NOME COMPLETO DOS INTEGRANTES DO GRUPO:\n",
        "**Davi Miranda Gonçalves**, \n",
        "**Denis SIlva Giroto**,\n",
        "**Naiara Moura Pires**\n",
        "\n",
        "MATRÍCULAS DOS INTEGRANTES DO GRUPO:\n",
        "**1931143030**,\n",
        "**1931143029**,\n",
        "**1931143033**"
      ]
    },
    {
      "cell_type": "code",
      "metadata": {
        "colab": {
          "base_uri": "https://localhost:8080/"
        },
        "id": "XkvFwxujQfNO",
        "outputId": "5c6674ea-9fe8-4925-fde3-32462c4ba625"
      },
      "source": [
        "!git clone -l -s https://github.com/girotodenis/ReconhecimentoImagemVisaoComputacional.git projeto\n",
        "#%cd cloned-repo\n",
        "!ls"
      ],
      "execution_count": 15,
      "outputs": [
        {
          "output_type": "stream",
          "text": [
            "fatal: destination path 'projeto' already exists and is not an empty directory.\n",
            "projeto  sample_data  yolov3.weights\n"
          ],
          "name": "stdout"
        }
      ]
    },
    {
      "cell_type": "code",
      "metadata": {
        "colab": {
          "base_uri": "https://localhost:8080/"
        },
        "id": "LWN2op2htlmt",
        "outputId": "e8944ee7-09f9-4abe-f99e-ef24142653fc"
      },
      "source": [
        "!curl -LJO https://github.com/AlexeyAB/darknet/releases/download/darknet_yolo_v3_optimal/yolov3.weights --output yolov3.weights"
      ],
      "execution_count": 16,
      "outputs": [
        {
          "output_type": "stream",
          "text": [
            "  % Total    % Received % Xferd  Average Speed   Time    Time     Time  Current\n",
            "                                 Dload  Upload   Total   Spent    Left  Speed\n",
            "100   638  100   638    0     0   1556      0 --:--:-- --:--:-- --:--:--  1552\n",
            "Warning: Refusing to overwrite yolov3.weights: File exists\n",
            "  0  236M    0 16384    0     0  13117      0  5:15:07  0:00:01  5:15:06 13117\n",
            "curl: (23) Failed writing body (0 != 16384)\n"
          ],
          "name": "stdout"
        }
      ]
    },
    {
      "cell_type": "code",
      "metadata": {
        "colab": {
          "base_uri": "https://localhost:8080/"
        },
        "id": "HerqgTOuiQON",
        "outputId": "d11e7965-b46a-46c7-8384-42f7a10cc56d"
      },
      "source": [
        "%ls 'projeto' "
      ],
      "execution_count": 17,
      "outputs": [
        {
          "output_type": "stream",
          "text": [
            "Atividade1.ipynb  gravar_video.ipynb  Projeto3.ipynb  README.md   yolov4.cfg\n",
            "Atividade2.ipynb  \u001b[0m\u001b[01;34mimagens\u001b[0m/            Projeto4.ipynb  \u001b[01;34mvideos\u001b[0m/\n",
            "coco.names        Projeto2.ipynb      Projeto.ipynb   yolov3.cfg\n"
          ],
          "name": "stdout"
        }
      ]
    },
    {
      "cell_type": "code",
      "metadata": {
        "id": "ylGcL0CrFNeO"
      },
      "source": [
        "from google.colab.patches import cv2_imshow\n",
        "\n",
        "import numpy as np\n",
        "import cv2\n",
        "import imutils\n",
        "\n",
        "import time \n"
      ],
      "execution_count": 29,
      "outputs": []
    },
    {
      "cell_type": "code",
      "metadata": {
        "id": "7gY1Rr6kBCMk"
      },
      "source": [
        "net = cv2.dnn.readNet('yolov3.weights','./projeto/yolov3.cfg')"
      ],
      "execution_count": 30,
      "outputs": []
    },
    {
      "cell_type": "code",
      "metadata": {
        "colab": {
          "base_uri": "https://localhost:8080/"
        },
        "id": "QL5GCkCnBNuN",
        "outputId": "d7d23702-299b-4459-ec40-c2be63179751"
      },
      "source": [
        "classes = []\n",
        "with open('./projeto/coco.names','r')as f:\n",
        "  classes = [line.strip() for line in f.readlines()]\n",
        "print(classes)\n",
        "\n",
        "layer_names = net.getLayerNames()\n",
        "outputLayers = [layer_names[i[0]-1] for i in net.getUnconnectedOutLayers()]\n",
        "print(outputLayers)\n",
        "\n",
        "cores = np.random.uniform(0,255,size=(len(classes), 3))"
      ],
      "execution_count": 31,
      "outputs": [
        {
          "output_type": "stream",
          "text": [
            "['person', 'bicycle', 'car', 'motorbike', 'aeroplane', 'bus', 'train', 'truck', 'boat', 'traffic light', 'fire hydrant', 'stop sign', 'parking meter', 'bench', 'bird', 'cat', 'dog', 'horse', 'sheep', 'cow', 'elephant', 'bear', 'zebra', 'giraffe', 'backpack', 'umbrella', 'handbag', 'tie', 'suitcase', 'frisbee', 'skis', 'snowboard', 'sports ball', 'kite', 'baseball bat', 'baseball glove', 'skateboard', 'surfboard', 'tennis racket', 'bottle', 'wine glass', 'cup', 'fork', 'knife', 'spoon', 'bowl', 'banana', 'apple', 'sandwich', 'orange', 'broccoli', 'carrot', 'hot dog', 'pizza', 'donut', 'cake', 'chair', 'sofa', 'pottedplant', 'bed', 'diningtable', 'toilet', 'tvmonitor', 'laptop', 'mouse', 'remote', 'keyboard', 'cell phone', 'microwave', 'oven', 'toaster', 'sink', 'refrigerator', 'book', 'clock', 'vase', 'scissors', 'teddy bear', 'hair drier', 'toothbrush']\n",
            "['yolo_82', 'yolo_94', 'yolo_106']\n"
          ],
          "name": "stdout"
        }
      ]
    },
    {
      "cell_type": "code",
      "metadata": {
        "id": "xF_oNKZHPKD1"
      },
      "source": [
        "def encontrar_objetos_dnn(outs):\n",
        "  class_ids = []\n",
        "  confidences = []\n",
        "  boxes = []\n",
        "\n",
        "  for out in outs:\n",
        "    for detection in out:\n",
        "      scores = detection[5:]\n",
        "      class_id = np.argmax(scores)\n",
        "      confidence = scores[class_id]\n",
        "      \n",
        "      if confidence>0.4:\n",
        "        x,y,w,h,cx,cy = calcula_box(detection,width,height)\n",
        "        boxes.append([x,y,w,h,cx,cy])\n",
        "        confidences.append(confidence)\n",
        "        class_ids.append(class_id)\n",
        "  return class_ids, confidences, boxes"
      ],
      "execution_count": 32,
      "outputs": []
    },
    {
      "cell_type": "code",
      "metadata": {
        "id": "veNwyFMbQvxU"
      },
      "source": [
        "def calcula_box(detection, width, height):\n",
        "  center_x = int(detection[0]*width)\n",
        "  center_y = int(detection[1]*height)\n",
        "  w = int(detection[2]*width)\n",
        "  h = int(detection[3]*height)\n",
        "  x = int(center_x - w/2)\n",
        "  y = int(center_y - h/2)\n",
        "  return [x,y,w,h,center_x,center_y]"
      ],
      "execution_count": 33,
      "outputs": []
    },
    {
      "cell_type": "code",
      "metadata": {
        "id": "CYEyP_jvbZwt"
      },
      "source": [
        "def desenha_box(frame, boxes, class_ids, confidences):\n",
        "  for i in range(len(boxes)):\n",
        "    x,y,w,h,cx,cy = boxes[i]\n",
        "    label = str(classes[class_ids[i]])\n",
        "    label += ' '+ str(round(confidences[i],2))\n",
        "    cor = cores[class_ids[i]]\n",
        "    cv2.rectangle(frame,(x ,y),(x+w, y+h),cor, 2)\n",
        "    cv2.putText(frame, label, (x, y+30), cv2.FONT_HERSHEY_PLAIN,1,(255,255,255),2)\n",
        "\n"
      ],
      "execution_count": 34,
      "outputs": []
    },
    {
      "cell_type": "code",
      "metadata": {
        "id": "l8pN6FUVC71Z"
      },
      "source": [
        "cap = cv2.VideoCapture('./projeto/videos/Car2165.mp4')\n",
        "width = int(cap.get(cv2.CAP_PROP_FRAME_WIDTH))\n",
        "height = int(cap.get(cv2.CAP_PROP_FRAME_HEIGHT))\n",
        "writer = cv2.VideoWriter('./projeto/videos/novo_Car2165.mp4', cv2.VideoWriter_fourcc(*'DIVX'),20,(width, height))\n",
        "\n",
        "print(width, height)\n",
        "if cap.isOpened() == False:\n",
        "    print('error file not found')\n",
        "\n",
        "cod_frame=0\n",
        "inicio = int(round(time.time() * 1000))\n",
        "detectados = []\n",
        "\n",
        "carros = 0\n",
        "\n",
        "\n",
        "while cap.isOpened():\n",
        "    cod_frame+=1\n",
        "    ret, frame = cap.read()\n",
        "    if ret == True:\n",
        "\n",
        "        #BGR -> RGB\n",
        "        blob = cv2.dnn.blobFromImage(frame, 0.00392,(320,320),(0,0,0),True)\n",
        "        net.setInput(blob)\n",
        "        outs = net.forward(outputLayers)\n",
        "\n",
        "        class_ids ,confidences , boxes = encontrar_objetos_dnn(outs)\n",
        "\n",
        "        desenha_box(frame, boxes, class_ids, confidences)\n",
        "\n",
        "        for i in range(len(boxes)):\n",
        "          x,y,w,h,cx,cy = boxes[i]\n",
        "          detectados.append((x,y,w,h,cx,cy))\n",
        "          cv2.circle(frame, (cx,cy) , 4, (0, 0, 255), -1)\n",
        "        \n",
        "        for (x,y,w,h,cx,cy) in detectados:\n",
        "          if (390 + 8) > cy > (390 - 8):\n",
        "            carros += 1\n",
        "            detectados.remove((x,y,w,h,cx,cy))\n",
        "            print(\"Carros detectados: \" + str(carros))\n",
        "\n",
        "        text = f'Carros: {carros}'\n",
        "        cv2.putText(frame, text, (0, 70), cv2.FONT_HERSHEY_SIMPLEX, 2, (0, 0, 255), 5)\n",
        "        \n",
        "        \n",
        "        if cod_frame % 25 == 0:\n",
        "          nome_foto = 'foto_'+str(cod_frame)+'.png'\n",
        "          cv2.imwrite(nome_foto, imutils.resize(frame, width=500))\n",
        "          cv2_imshow(cv2.imread(nome_foto))\n",
        "          #cv2_imshow(frame_volume_objetos)\n",
        "          print(cod_frame, boxes, confidences, class_ids)\n",
        "        \n",
        "        \n",
        "        writer.write(frame)\n",
        "\n",
        "    else:\n",
        "        break\n",
        "\n",
        "\n",
        "\n",
        "cap.release()\n",
        "writer.release()"
      ],
      "execution_count": null,
      "outputs": []
    },
    {
      "cell_type": "code",
      "metadata": {
        "id": "2pn9qvs4BDhu",
        "colab": {
          "base_uri": "https://localhost:8080/"
        },
        "outputId": "bdd59e6f-9ff7-4624-81f0-811a52d5f980"
      },
      "source": [
        "x = [[1]]\n",
        "x[0][0]"
      ],
      "execution_count": 36,
      "outputs": [
        {
          "output_type": "execute_result",
          "data": {
            "text/plain": [
              "1"
            ]
          },
          "metadata": {
            "tags": []
          },
          "execution_count": 36
        }
      ]
    },
    {
      "cell_type": "code",
      "metadata": {
        "id": "WmENe4NdP_if"
      },
      "source": [
        "subtracao = cv2.bgsegm.createBackgroundSubtractorMOG()  # Pega o fundo e subtrai do que está se movendo\n",
        "def preprocesso_encontrar_objetos_bordas(frame1):\n",
        "  grey = cv2.cvtColor(frame1, cv2.COLOR_BGR2GRAY)  # Pega o frame e transforma para preto e branco\n",
        "  blur = cv2.GaussianBlur(grey, (3, 3), 5)  # Faz um blur para tentar remover as imperfeições da imagem\n",
        "  img_sub = subtracao.apply(blur)  # Faz a subtração da imagem aplicada no blur\n",
        "  dilat = cv2.dilate(img_sub, np.ones((5, 5)))  # \"Engrossa\" o que sobrou da subtração\n",
        "  kernel = cv2.getStructuringElement(cv2.MORPH_ELLIPSE, (5, 5))  # Cria uma matriz 5x5, em que o formato da matriz entre 0 e 1 forma uma elipse dentro\n",
        "  dilatada = cv2.morphologyEx(dilat, cv2.MORPH_CLOSE, kernel)  # Tenta preencher todos os \"buracos\" da imagem\n",
        "  dilatada = cv2.morphologyEx(dilatada, cv2.MORPH_CLOSE, kernel)\n",
        "  return dilatada"
      ],
      "execution_count": 41,
      "outputs": []
    },
    {
      "cell_type": "code",
      "metadata": {
        "id": "gV8VRKkiJ7rI"
      },
      "source": [
        "def desenha_retangulo_objeto(original, objeto_movimento):\n",
        "  centros = []\n",
        "  contorno, img = cv2.findContours(objeto_movimento, cv2.RETR_TREE, cv2.CHAIN_APPROX_SIMPLE)\n",
        "  for (i, c) in enumerate(contorno):\n",
        "    (x, y, w, h) = cv2.boundingRect(c)\n",
        "    validar_contorno = (w >= 50) and (h >= 50)\n",
        "    if not validar_contorno:\n",
        "        continue\n",
        "    cv2.rectangle(original, (x, y), (x + w, y + h), (0, 255, 0), 2)\n",
        "    x1 = w // 2\n",
        "    y1 = h // 2\n",
        "    cx = x + x1\n",
        "    cy = y + y1\n",
        "    centros.append((cx,cy))\n",
        "  return centros\n"
      ],
      "execution_count": 42,
      "outputs": []
    },
    {
      "cell_type": "code",
      "metadata": {
        "id": "CCWHIhKIJUnj"
      },
      "source": [
        "cap = cv2.VideoCapture('./projeto/videos/Car2165.mp4')\n",
        "width = int(cap.get(cv2.CAP_PROP_FRAME_WIDTH))\n",
        "height = int(cap.get(cv2.CAP_PROP_FRAME_HEIGHT))\n",
        "writer = cv2.VideoWriter('./projeto/videos/novo2_Car2165.mp4', cv2.VideoWriter_fourcc(*'DIVX'),20,(width, height))\n",
        "\n",
        "print(width, height)\n",
        "if cap.isOpened() == False:\n",
        "    print('error file not found')\n",
        "\n",
        "cod_frame=0\n",
        "\n",
        "encontrados = []\n",
        "\n",
        "carros = 0\n",
        "\n",
        "inicio = int(round(time.time() * 1000))\n",
        "while cap.isOpened():\n",
        "    cod_frame+=1\n",
        "    ret, frame = cap.read()\n",
        "    if ret == True:\n",
        "        frame_volume_objetos = preprocesso_encontrar_objetos_bordas(frame)\n",
        "        centros = desenha_retangulo_objeto(frame, frame_volume_objetos)\n",
        "        \n",
        "        for c in centros:\n",
        "          encontrados.append( c )\n",
        "          cv2.circle(frame, c, 4, (0, 0, 255), -1)\n",
        "        \n",
        "        for (cx,cy) in encontrados:\n",
        "          if (390 + 6) > cy > (390 - 6):\n",
        "            carros += 1\n",
        "            encontrados.remove((cx,cy))\n",
        "            print(\"Carros encontrados: \" + str(carros))\n",
        "\n",
        "        text = f'Carros: {carros}'\n",
        "        cv2.putText(frame, text, (0, 70), cv2.FONT_HERSHEY_SIMPLEX, 2, (0, 0, 255), 5)\n",
        "        \n",
        "        \n",
        "        if cod_frame % 25 == 0:\n",
        "          nome_foto = 'foto_'+str(cod_frame)+'.png'\n",
        "          cv2.imwrite(nome_foto, imutils.resize(frame, width=500))\n",
        "          cv2_imshow(cv2.imread(nome_foto))\n",
        "          cv2_imshow(imutils.resize(frame_volume_objetos, width=500) )\n",
        "        \n",
        "        \n",
        "        writer.write(frame)\n",
        "\n",
        "        time.sleep(float(1 / 25))\n",
        "\n",
        "    else:\n",
        "        break\n",
        "\n",
        "\n",
        "cap.release()\n",
        "writer.release()\n"
      ],
      "execution_count": null,
      "outputs": []
    },
    {
      "cell_type": "code",
      "metadata": {
        "id": "et3-RLHHaqAW"
      },
      "source": [
        ""
      ],
      "execution_count": 43,
      "outputs": []
    }
  ]
}