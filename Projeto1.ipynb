{
  "nbformat": 4,
  "nbformat_minor": 0,
  "metadata": {
    "colab": {
      "name": "Projeto2.ipynb",
      "provenance": [],
      "collapsed_sections": [],
      "include_colab_link": true
    },
    "kernelspec": {
      "name": "python3",
      "display_name": "Python 3"
    }
  },
  "cells": [
    {
      "cell_type": "markdown",
      "metadata": {
        "id": "view-in-github",
        "colab_type": "text"
      },
      "source": [
        "<a href=\"https://colab.research.google.com/github/girotodenis/ReconhecimentoImagemVisaoComputacional/blob/master/Projeto1.ipynb\" target=\"_parent\"><img src=\"https://colab.research.google.com/assets/colab-badge.svg\" alt=\"Open In Colab\"/></a>"
      ]
    },
    {
      "cell_type": "markdown",
      "metadata": {
        "id": "rL3maMg1Iib3"
      },
      "source": [
        "NOME COMPLETO DOS INTEGRANTES DO GRUPO:\n",
        "**Davi Miranda Gonçalves**, \n",
        "**Denis SIlva Giroto**,\n",
        "**Naiara Moura Pires**\n",
        "\n",
        "MATRÍCULAS DOS INTEGRANTES DO GRUPO:\n",
        "**1931143030**,\n",
        "**1931143029**,\n",
        "**1931143033**"
      ]
    },
    {
      "cell_type": "code",
      "metadata": {
        "colab": {
          "base_uri": "https://localhost:8080/"
        },
        "id": "XkvFwxujQfNO",
        "outputId": "0d82d2bc-2de3-455d-900f-adaac46364ce"
      },
      "source": [
        "!git clone -l -s https://github.com/girotodenis/ReconhecimentoImagemVisaoComputacional.git projeto\n",
        "#%cd cloned-repo\n",
        "!ls"
      ],
      "execution_count": null,
      "outputs": [
        {
          "output_type": "stream",
          "text": [
            "fatal: destination path 'projeto' already exists and is not an empty directory.\n",
            "projeto  sample_data  yolov3.weights\n"
          ],
          "name": "stdout"
        }
      ]
    },
    {
      "cell_type": "code",
      "metadata": {
        "colab": {
          "base_uri": "https://localhost:8080/"
        },
        "id": "LWN2op2htlmt",
        "outputId": "62987d00-70c2-4f72-bf5c-2d2941caf424"
      },
      "source": [
        "!curl -LJO https://github.com/AlexeyAB/darknet/releases/download/darknet_yolo_v3_optimal/yolov3.weights --output yolov3.weights"
      ],
      "execution_count": null,
      "outputs": [
        {
          "output_type": "stream",
          "text": [
            "  % Total    % Received % Xferd  Average Speed   Time    Time     Time  Current\n",
            "                                 Dload  Upload   Total   Spent    Left  Speed\n",
            "100   638  100   638    0     0   3584      0 --:--:-- --:--:-- --:--:--  3584\n",
            "Warning: Refusing to overwrite yolov3.weights: File exists\n",
            "  0  236M    0 15949    0     0  44058      0  1:33:49 --:--:--  1:33:49 44058\n",
            "curl: (23) Failed writing body (0 != 15949)\n"
          ],
          "name": "stdout"
        }
      ]
    },
    {
      "cell_type": "code",
      "metadata": {
        "colab": {
          "base_uri": "https://localhost:8080/"
        },
        "id": "HerqgTOuiQON",
        "outputId": "272ed13c-fef3-47aa-c1e9-977eaf77d96f"
      },
      "source": [
        "%ls 'projeto' "
      ],
      "execution_count": null,
      "outputs": [
        {
          "output_type": "stream",
          "text": [
            "Atividade1.ipynb  gravar_video.ipynb  Projeto3.ipynb  README.md   yolov4.cfg\n",
            "Atividade2.ipynb  \u001b[0m\u001b[01;34mimagens\u001b[0m/            Projeto4.ipynb  \u001b[01;34mvideos\u001b[0m/\n",
            "coco.names        Projeto2.ipynb      Projeto.ipynb   yolov3.cfg\n"
          ],
          "name": "stdout"
        }
      ]
    },
    {
      "cell_type": "code",
      "metadata": {
        "id": "ylGcL0CrFNeO"
      },
      "source": [
        "from google.colab.patches import cv2_imshow\n",
        "\n",
        "import numpy as np\n",
        "import cv2\n",
        "import imutils\n",
        "\n",
        "import time \n"
      ],
      "execution_count": null,
      "outputs": []
    },
    {
      "cell_type": "code",
      "metadata": {
        "id": "7gY1Rr6kBCMk"
      },
      "source": [
        "net = cv2.dnn.readNet('yolov3.weights','./projeto/yolov3.cfg')"
      ],
      "execution_count": null,
      "outputs": []
    },
    {
      "cell_type": "code",
      "metadata": {
        "colab": {
          "base_uri": "https://localhost:8080/"
        },
        "id": "QL5GCkCnBNuN",
        "outputId": "b1228b60-deea-4c94-f15f-471ed789f93c"
      },
      "source": [
        "classes = []\n",
        "with open('./projeto/coco.names','r')as f:\n",
        "  classes = [line.strip() for line in f.readlines()]\n",
        "print(classes)\n",
        "\n",
        "layer_names = net.getLayerNames()\n",
        "outputLayers = [layer_names[i[0]-1] for i in net.getUnconnectedOutLayers()]\n",
        "print(outputLayers)\n",
        "\n",
        "cores = np.random.uniform(0,255,size=(len(classes), 3))"
      ],
      "execution_count": null,
      "outputs": [
        {
          "output_type": "stream",
          "text": [
            "['person', 'bicycle', 'car', 'motorbike', 'aeroplane', 'bus', 'train', 'truck', 'boat', 'traffic light', 'fire hydrant', 'stop sign', 'parking meter', 'bench', 'bird', 'cat', 'dog', 'horse', 'sheep', 'cow', 'elephant', 'bear', 'zebra', 'giraffe', 'backpack', 'umbrella', 'handbag', 'tie', 'suitcase', 'frisbee', 'skis', 'snowboard', 'sports ball', 'kite', 'baseball bat', 'baseball glove', 'skateboard', 'surfboard', 'tennis racket', 'bottle', 'wine glass', 'cup', 'fork', 'knife', 'spoon', 'bowl', 'banana', 'apple', 'sandwich', 'orange', 'broccoli', 'carrot', 'hot dog', 'pizza', 'donut', 'cake', 'chair', 'sofa', 'pottedplant', 'bed', 'diningtable', 'toilet', 'tvmonitor', 'laptop', 'mouse', 'remote', 'keyboard', 'cell phone', 'microwave', 'oven', 'toaster', 'sink', 'refrigerator', 'book', 'clock', 'vase', 'scissors', 'teddy bear', 'hair drier', 'toothbrush']\n",
            "['yolo_82', 'yolo_94', 'yolo_106']\n"
          ],
          "name": "stdout"
        }
      ]
    },
    {
      "cell_type": "code",
      "metadata": {
        "id": "xF_oNKZHPKD1"
      },
      "source": [
        "def encontrar_objetos_dnn(outs):\n",
        "  class_ids = []\n",
        "  confidences = []\n",
        "  boxes = []\n",
        "\n",
        "  for out in outs:\n",
        "    for detection in out:\n",
        "      scores = detection[5:]\n",
        "      class_id = np.argmax(scores)\n",
        "      confidence = scores[class_id]\n",
        "\n",
        "      if confidence>0.6:\n",
        "        x,y,w,h,cx,cy = calcula_box(detection,width,height)\n",
        "        boxes.append([x,y,w,h,cx,cy])\n",
        "        confidences.append(confidence)\n",
        "        class_ids.append(class_id)\n",
        "      \n",
        "      # print(class_ids)\n",
        "\n",
        "  return class_ids, confidences, boxes"
      ],
      "execution_count": null,
      "outputs": []
    },
    {
      "cell_type": "code",
      "metadata": {
        "id": "veNwyFMbQvxU"
      },
      "source": [
        "def calcula_box(detection, width, height):\n",
        "  center_x = int(detection[0]*width)\n",
        "  center_y = int(detection[1]*height)\n",
        "  w = int(detection[2]*width)\n",
        "  h = int(detection[3]*height)\n",
        "  x = int(center_x - w/2)\n",
        "  y = int(center_y - h/2)\n",
        "  return [x,y,w,h,center_x,center_y]"
      ],
      "execution_count": null,
      "outputs": []
    },
    {
      "cell_type": "code",
      "metadata": {
        "id": "CYEyP_jvbZwt"
      },
      "source": [
        "def desenha_box(frame, boxes, class_ids, confidences):\n",
        "  for i in range(len(boxes)):\n",
        "    x,y,w,h,cx,cy = boxes[i]\n",
        "    label = str(classes[class_ids[i]])\n",
        "    label += ' '+ str(round(confidences[i],2))\n",
        "    cor = cores[class_ids[i]]\n",
        "    cv2.rectangle(frame,(x ,y),(x+w, y+h),cor, 2)\n",
        "    cv2.putText(frame, label, (x, y+30), cv2.FONT_HERSHEY_PLAIN,1,(255,255,255),2)"
      ],
      "execution_count": null,
      "outputs": []
    },
    {
      "cell_type": "code",
      "metadata": {
        "id": "5JgK4B6UqQns"
      },
      "source": [
        "carros_detectados = []\n",
        "\n",
        "h_bins = 50\n",
        "s_bins = 60\n",
        "histSize = [h_bins, s_bins]\n",
        "# hue varies from 0 to 179, saturation from 0 to 255\n",
        "h_ranges = [0, 180]\n",
        "s_ranges = [0, 256]\n",
        "ranges = h_ranges + s_ranges # concat lists\n",
        "# Use the 0-th and 1-st channels\n",
        "channels = [0, 1]\n",
        "\n",
        "def registrar_carro(frame, box):\n",
        "  x,y,w,h,cx,cy = box\n",
        "  crop_box = frame[y:y+h, x:x+w]\n",
        "  gray_crop_box = cv2.cvtColor(crop_box, cv2.COLOR_BGR2HSV) \n",
        "  exists = _is_carro_registrado(gray_crop_box)\n",
        "\n",
        "  if (not exists) :  \n",
        "    carros_detectados.append(gray_crop_box)\n",
        "\n",
        "  return carros_detectados\n",
        "\n",
        "def _is_carro_registrado(gray_crop_box):\n",
        "  \n",
        "  cropped_image_histogram = cv2.calcHist([gray_crop_box], channels, None, histSize, ranges, accumulate=False)\n",
        "\n",
        "  if (len(carros_detectados) == 0):\n",
        "    return False\n",
        "  \n",
        "  exists = False;\n",
        "\n",
        "  for detected in carros_detectados:\n",
        "    detected_hist = cv2.calcHist([detected], channels, None, histSize, ranges, accumulate=False)\n",
        "\n",
        "    # https://docs.opencv.org/3.4/d8/dc8/tutorial_histogram_comparison.html\n",
        "    # https://docs.opencv.org/4.1.2/d6/dc7/group__imgproc__hist.html#gaf4190090efa5c47cb367cf97a9a519bd\n",
        "    # https://docs.opencv.org/4.1.2/d6/dc7/group__imgproc__hist.html#ga994f53817d621e2e4228fc646342d386\n",
        "    a = cv2.compareHist(cropped_image_histogram, detected_hist, cv2.HISTCMP_CORREL)\n",
        "    \n",
        "    if (a > 0.60):\n",
        "      exists = True\n",
        "      break \n",
        "\n",
        "  return exists"
      ],
      "execution_count": null,
      "outputs": []
    },
    {
      "cell_type": "code",
      "metadata": {
        "id": "l8pN6FUVC71Z",
        "colab": {
          "base_uri": "https://localhost:8080/"
        },
        "outputId": "3cdc1cc5-a6b4-4144-b335-d7e21eec47c7"
      },
      "source": [
        "cap = cv2.VideoCapture('./projeto/videos/Car2165.mp4')\n",
        "width = int(cap.get(cv2.CAP_PROP_FRAME_WIDTH))\n",
        "height = int(cap.get(cv2.CAP_PROP_FRAME_HEIGHT))\n",
        "writer = cv2.VideoWriter('./projeto/videos/novo_Car2165.mp4', cv2.VideoWriter_fourcc(*'DIVX'),20,(width, height))\n",
        "\n",
        "print(width, height)\n",
        "if cap.isOpened() == False:\n",
        "    print('error file not found')\n",
        "\n",
        "cod_frame=0\n",
        "inicio = int(round(time.time() * 1000))\n",
        "detectados = []\n",
        "\n",
        "veiculos = 0\n",
        "\n",
        "while cap.isOpened():\n",
        "    cod_frame+=1\n",
        "    ret, frame = cap.read()\n",
        "    if ret == True:\n",
        "\n",
        "        #BGR -> RGB\n",
        "        blob = cv2.dnn.blobFromImage(frame, 0.00392,(320,320),(0,0,0),True)\n",
        "        net.setInput(blob)\n",
        "        outs = net.forward(outputLayers)\n",
        "\n",
        "        class_ids ,confidences , boxes = encontrar_objetos_dnn(outs)\n",
        "\n",
        "        desenha_box(frame, boxes, class_ids, confidences)\n",
        "\n",
        "        for i in range(len(boxes)):\n",
        "          x,y,w,h,cx,cy = boxes[i]\n",
        "          veiculos = len(registrar_carro(frame, boxes[i]))\n",
        "          cv2.circle(frame, (cx,cy) , 4, (0, 0, 255), -1)        \n",
        "\n",
        "        text = f'veiculos: {veiculos}'\n",
        "\n",
        "        cv2.putText(frame, text, (0, 70), cv2.FONT_HERSHEY_SIMPLEX, 2, (0, 0, 255), 5)      \n",
        "        \n",
        "        writer.write(frame)\n",
        "\n",
        "    else:\n",
        "        break\n",
        "\n",
        "cap.release()\n",
        "writer.release()"
      ],
      "execution_count": null,
      "outputs": [
        {
          "output_type": "stream",
          "text": [
            "1280 720\n"
          ],
          "name": "stdout"
        }
      ]
    }
  ]
}