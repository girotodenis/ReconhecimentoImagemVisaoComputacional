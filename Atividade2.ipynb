{
  "nbformat": 4,
  "nbformat_minor": 0,
  "metadata": {
    "colab": {
      "name": "Atividade 1 Parte B.ipynb",
      "provenance": [],
      "collapsed_sections": [
        "HROOjF7RWdAR",
        "jCu7i8djWosv",
        "ehMWiHKPFGTq",
        "Xx-XRcHdFjTc",
        "wTkp2h6uF4e5",
        "YXdwpYqlGP27",
        "_z4HGOZRGmpy",
        "MCK259I-W0-h",
        "3AZknfKUND3t",
        "6UscSup9Nn7O",
        "mG7MwSMONuwx"
      ],
      "toc_visible": true,
      "include_colab_link": true
    },
    "kernelspec": {
      "name": "python3",
      "display_name": "Python 3"
    }
  },
  "cells": [
    {
      "cell_type": "markdown",
      "metadata": {
        "id": "view-in-github",
        "colab_type": "text"
      },
      "source": [
        "<a href=\"https://colab.research.google.com/github/girotodenis/ReconhecimentoImagemVisaoComputacional/blob/master/Atividade2.ipynb\" target=\"_parent\"><img src=\"https://colab.research.google.com/assets/colab-badge.svg\" alt=\"Open In Colab\"/></a>"
      ]
    },
    {
      "cell_type": "markdown",
      "metadata": {
        "id": "8m6vjbp3l4f6"
      },
      "source": [
        "NOME COMPLETO DOS INTEGRANTES DO GRUPO:\n",
        "**Davi Miranda Gonçalves**, \n",
        "**Denis SIlva Giroto**,\n",
        "**Naiara Moura Pires**\n",
        "\n",
        "MATRÍCULAS DOS INTEGRANTES DO GRUPO:\n",
        "**1931143030**,\n",
        "**1931143029**,\n",
        "**1931143033**\n"
      ]
    },
    {
      "cell_type": "code",
      "metadata": {
        "id": "P25m13QKTM8O",
        "colab": {
          "base_uri": "https://localhost:8080/"
        },
        "outputId": "5d14b818-3d39-4927-d090-6793869db0db"
      },
      "source": [
        "# Clone the entire repo.\n",
        "!git clone -l -s https://github.com/girotodenis/ReconhecimentoImagemVisaoComputacional.git cloned-repo"
      ],
      "execution_count": 1,
      "outputs": [
        {
          "output_type": "stream",
          "text": [
            "Cloning into 'cloned-repo'...\n",
            "warning: --local is ignored\n",
            "remote: Enumerating objects: 118, done.\u001b[K\n",
            "remote: Counting objects: 100% (118/118), done.\u001b[K\n",
            "remote: Compressing objects: 100% (114/114), done.\u001b[K\n",
            "remote: Total 118 (delta 56), reused 20 (delta 2), pack-reused 0\u001b[K\n",
            "Receiving objects: 100% (118/118), 17.78 MiB | 5.75 MiB/s, done.\n",
            "Resolving deltas: 100% (56/56), done.\n"
          ],
          "name": "stdout"
        }
      ]
    },
    {
      "cell_type": "code",
      "metadata": {
        "id": "1wuhgYW9sA0P",
        "colab": {
          "base_uri": "https://localhost:8080/"
        },
        "outputId": "4d41364f-a732-4e6f-850e-fe0b574b91d8"
      },
      "source": [
        "%cd cloned-repo\n",
        "!ls"
      ],
      "execution_count": 2,
      "outputs": [
        {
          "output_type": "stream",
          "text": [
            "/content/cloned-repo\n",
            "Atividade1.ipynb  Atividade2.ipynb  imagens  README.md\n"
          ],
          "name": "stdout"
        }
      ]
    },
    {
      "cell_type": "code",
      "metadata": {
        "id": "Q647hGJKWsFw"
      },
      "source": [
        "from google.colab.patches import cv2_imshow\n",
        "%matplotlib inline\n",
        "from matplotlib import pyplot as plt\n",
        "import cv2\n",
        "import os\n",
        "import numpy as np"
      ],
      "execution_count": 3,
      "outputs": []
    },
    {
      "cell_type": "code",
      "metadata": {
        "id": "CMdFhhvaZsZf",
        "colab": {
          "base_uri": "https://localhost:8080/"
        },
        "outputId": "c6f5830a-f72a-422d-a12a-277f47fcdfe2"
      },
      "source": [
        "execution_path = os.getcwd()\n",
        "print(execution_path)"
      ],
      "execution_count": 4,
      "outputs": [
        {
          "output_type": "stream",
          "text": [
            "/content/cloned-repo\n"
          ],
          "name": "stdout"
        }
      ]
    },
    {
      "cell_type": "markdown",
      "metadata": {
        "id": "FvLjpiFdWN4r"
      },
      "source": [
        "#Atividade 1\n",
        "\n"
      ]
    },
    {
      "cell_type": "markdown",
      "metadata": {
        "id": "HROOjF7RWdAR"
      },
      "source": [
        "##Exercício 1\n",
        "\n",
        "Escreva um programa em que o limiar seja estimado\n",
        "automaticamente usando a técnica de Global Thresholding. A saída\n",
        "deve ser uma imagem binarizada e a entrada de ser a imagem\n",
        "fingerPrint.png. Qual a relação que existe entre o limiar e o número\n",
        "de iterações?"
      ]
    },
    {
      "cell_type": "code",
      "metadata": {
        "id": "WBPu9nQjKHrO"
      },
      "source": [
        "def estimar_limiar(imagem):\n",
        "  hist = cv2.calcHist([imagem],[0],None,[256],[0,256])\n",
        "  hist_norm = hist.ravel()/hist.max()\n",
        "\n",
        "  plt.hist(hist_norm, bins=256)\n",
        "  plt.show()\n",
        "\n",
        "  Q = hist_norm.cumsum()\n",
        "  bins = np.arange(256)\n",
        "  fn_min = np.inf\n",
        "  limiar = -1\n",
        "  for i in range(1,256):\n",
        "      p1,p2 = np.hsplit(hist_norm,[i]) \n",
        "      q1,q2 = Q[i],Q[255]-Q[i] \n",
        "      b1,b2 = np.hsplit(bins,[i])\n",
        "      m1,m2 = np.sum(p1*b1)/q1, np.sum(p2*b2)/q2\n",
        "      v1,v2 = np.sum(((b1-m1)**2)*p1)/q1,np.sum(((b2-m2)**2)*p2)/q2\n",
        "      fn = v1*q1 + v2*q2\n",
        "      if fn < fn_min:\n",
        "          fn_min = fn\n",
        "          limiar = i\n",
        "  return limiar\n",
        "\n",
        "def global_thresholding(imagem):\n",
        "  limiar = estimar_limiar(imagem)\n",
        "  print('limiar',limiar)\n",
        "  limiar, imgLimiar = cv2.threshold(imagem, limiar, 256,cv2.THRESH_BINARY)\n",
        "  print('limiar',limiar)\n",
        "  return imgLimiar\n",
        "\n",
        "\n"
      ],
      "execution_count": 5,
      "outputs": []
    },
    {
      "cell_type": "code",
      "metadata": {
        "id": "UBlr8xsETXaW",
        "colab": {
          "base_uri": "https://localhost:8080/",
          "height": 1000
        },
        "outputId": "e360a19c-6b8f-444f-b9ed-3e45723644c6"
      },
      "source": [
        "imagem = cv2.imread('./imagens/fingerPrint.png',0) \n",
        "#imagem = cv2.GaussianBlur(imagem, (5, 5), 0) \n",
        "imgLimiar = global_thresholding( imagem ) \n",
        "cv2_imshow( imgLimiar )"
      ],
      "execution_count": 6,
      "outputs": [
        {
          "output_type": "display_data",
          "data": {
            "image/png": "[encoded data removed]",
            "text/plain": [
              "<Figure size 432x288 with 1 Axes>"
            ]
          },
          "metadata": {
            "tags": [],
            "needs_background": "light"
          }
        },
        {
          "output_type": "stream",
          "text": [
            "limiar 126\n",
            "limiar 126.0\n"
          ],
          "name": "stdout"
        },
        {
          "output_type": "stream",
          "text": [
            "/usr/local/lib/python3.6/dist-packages/ipykernel_launcher.py:16: RuntimeWarning: invalid value encountered in double_scalars\n",
            "  app.launch_new_instance()\n",
            "/usr/local/lib/python3.6/dist-packages/ipykernel_launcher.py:16: RuntimeWarning: divide by zero encountered in double_scalars\n",
            "  app.launch_new_instance()\n",
            "/usr/local/lib/python3.6/dist-packages/ipykernel_launcher.py:17: RuntimeWarning: invalid value encountered in multiply\n"
          ],
          "name": "stderr"
        },
        {
          "output_type": "display_data",
          "data": {
            "image/png": "[encoded data removed]",
            "text/plain": [
              "<PIL.Image.Image image mode=L size=798x958 at 0x7FBDE605B4A8>"
            ]
          },
          "metadata": {
            "tags": []
          }
        }
      ]
    },
    {
      "cell_type": "markdown",
      "metadata": {
        "id": "vfvghYuUKH5O"
      },
      "source": [
        "####R. \n",
        "Quanto mais interações mais o EM(Expectation-Maximization) vai convergir. Melhora a precisão de encontrar o melhor linear."
      ]
    },
    {
      "cell_type": "markdown",
      "metadata": {
        "id": "AXT_n_ebUOse"
      },
      "source": [
        "##Exercício 2\n",
        "A imagem abaixo possui círculos e quadrados de vários tamanhos.\n",
        "Alguns objetos possuem um ou dois buracos dentro deles. Faça um\n",
        "algoritmo que use operações morfológicas e lógicas para responder\n",
        "as perguntas abaixo."
      ]
    },
    {
      "cell_type": "code",
      "metadata": {
        "id": "xwSYNNZda0ap",
        "outputId": "27ab9144-38ad-4aa1-ad23-6967072ae79c",
        "colab": {
          "base_uri": "https://localhost:8080/"
        }
      },
      "source": [
        "imagem = cv2.imread('./imagens/blocks.png') \n",
        "print('Largura em pixels: ', end='')\n",
        "print(imagem.shape[1]) #largura da imagem\n",
        "print('Altura em pixels: ', end='')\n",
        "print(imagem.shape[0]) #altura da imagem\n",
        "print('Qtde de canais: ', end='')\n",
        "print(imagem.shape[2]) "
      ],
      "execution_count": 8,
      "outputs": [
        {
          "output_type": "stream",
          "text": [
            "Largura em pixels: 384\n",
            "Altura em pixels: 331\n",
            "Qtde de canais: 3\n"
          ],
          "name": "stdout"
        }
      ]
    },
    {
      "cell_type": "code",
      "metadata": {
        "id": "i0VhU0f_a5in",
        "outputId": "af1b284f-76a8-43b0-9f4d-03ee89df033a",
        "colab": {
          "base_uri": "https://localhost:8080/",
          "height": 252
        }
      },
      "source": [
        "plt.imshow(imagem, cmap = 'gray', interpolation = 'bicubic')\n",
        "plt.xticks([]), plt.yticks([])  # to hide tick values on X and Y axis\n",
        "plt.show()"
      ],
      "execution_count": 9,
      "outputs": [
        {
          "output_type": "display_data",
          "data": {
            "image/png": "[encoded data removed]",
            "text/plain": [
              "<Figure size 432x288 with 1 Axes>"
            ]
          },
          "metadata": {
            "tags": []
          }
        }
      ]
    },
    {
      "cell_type": "code",
      "metadata": {
        "id": "4kpU-4mKa9zj"
      },
      "source": [
        "# binarizar\n",
        "img = cv2.imread('./imagens/blocks.png', 0)\n",
        "m, n = img.shape\n",
        "ret,imagembi = cv2.threshold(img,127,255,cv2.THRESH_BINARY)\n"
      ],
      "execution_count": 12,
      "outputs": []
    },
    {
      "cell_type": "code",
      "metadata": {
        "id": "Vvh0y60ObAkh",
        "outputId": "70f63024-8b9b-457d-bd94-e783d19f49e3",
        "colab": {
          "base_uri": "https://localhost:8080/",
          "height": 252
        }
      },
      "source": [
        "plt.imshow(imagembi, cmap = 'gray', interpolation = 'bicubic')\n",
        "plt.xticks([]), plt.yticks([])  # to hide tick values on X and Y axis\n",
        "plt.show()"
      ],
      "execution_count": 13,
      "outputs": [
        {
          "output_type": "display_data",
          "data": {
            "image/png": "[encoded data removed]",
            "text/plain": [
              "<Figure size 432x288 with 1 Axes>"
            ]
          },
          "metadata": {
            "tags": []
          }
        }
      ]
    },
    {
      "cell_type": "markdown",
      "metadata": {
        "id": "jCu7i8djWosv"
      },
      "source": [
        "###a)\n",
        "\n",
        "Que fração dos pixels da imagem são brancos? Quantos objetos a\n",
        "imagem possui?"
      ]
    },
    {
      "cell_type": "code",
      "metadata": {
        "id": "TBi48_bEJwv2",
        "outputId": "583406e4-eb18-4396-ccbb-e937086b5210",
        "colab": {
          "base_uri": "https://localhost:8080/"
        }
      },
      "source": [
        "pixelBranco = cv2.countNonZero(imagembi)\n",
        "TotalNumberOfPixels = m * n\n",
        "fracaoPixels = pixelBranco / TotalNumberOfPixels\n",
        "\n",
        "print(\"Total de pixel: \", TotalNumberOfPixels)\n",
        "print(\"Total de pixel Brancos: \", pixelBranco)\n",
        "print(\"Franção dos pixels: \", fracaoPixels)"
      ],
      "execution_count": 14,
      "outputs": [
        {
          "output_type": "stream",
          "text": [
            "Total de pixel:  127104\n",
            "Total de pixel Brancos:  27011\n",
            "Franção dos pixels:  0.2125110146022155\n"
          ],
          "name": "stdout"
        }
      ]
    },
    {
      "cell_type": "code",
      "metadata": {
        "id": "w0TAOUXnbEA7"
      },
      "source": [
        "contours, hierarchy = cv2.findContours(img,cv2.RETR_CCOMP,cv2.CHAIN_APPROX_SIMPLE)"
      ],
      "execution_count": 15,
      "outputs": []
    },
    {
      "cell_type": "code",
      "metadata": {
        "id": "KWCHuIXTbIIz",
        "outputId": "e4f399b9-464c-49b3-f57e-d156c351ce03",
        "colab": {
          "base_uri": "https://localhost:8080/"
        }
      },
      "source": [
        "max_num = np.amax(hierarchy) + 1\n",
        "numerosComMaisDeUmBuraco = 0\n",
        "numerosComUmBuraco = 0\n",
        "totalDeBuracos = 0\n",
        "ObjetosComBuracos = 0\n",
        "for c, h in zip(contours, hierarchy[0]):\n",
        "    if h[2] != -1:\n",
        "        ObjetosComBuracos = ObjetosComBuracos + 1\n",
        "        if h[0] == -1:\n",
        "            num_interior_contours = max_num - h[2]\n",
        "        else: num_interior_contours = h[0]-h[2]\n",
        "    else: num_interior_contours = 0\n",
        "    totalDeBuracos = totalDeBuracos + num_interior_contours\n",
        "    # Quantidades de buraco\n",
        "    if num_interior_contours == 1:\n",
        "      numerosComUmBuraco = numerosComUmBuraco + 1\n",
        "    if num_interior_contours > 1:\n",
        "      numerosComMaisDeUmBuraco = numerosComMaisDeUmBuraco + 1\n",
        "\n",
        "numeroTotalDeObjetos = max_num - totalDeBuracos \n",
        "print(\"Numero de Objetos: \", numeroTotalDeObjetos)"
      ],
      "execution_count": 16,
      "outputs": [
        {
          "output_type": "stream",
          "text": [
            "Numero de Objetos:  27\n"
          ],
          "name": "stdout"
        }
      ]
    },
    {
      "cell_type": "markdown",
      "metadata": {
        "id": "l4mH85QJJtis"
      },
      "source": [
        "####R. 27\n"
      ]
    },
    {
      "cell_type": "markdown",
      "metadata": {
        "id": "lTjyKbPKWu5t"
      },
      "source": [
        "###b)\n",
        "\n",
        "Quantos buracos há na imagem? Quantos objetos têm mais de um\n",
        "buraco?"
      ]
    },
    {
      "cell_type": "code",
      "metadata": {
        "id": "pSWJpkpkJxh4",
        "outputId": "8b4b8dca-455a-4653-c202-6b73bb02a7d4",
        "colab": {
          "base_uri": "https://localhost:8080/"
        }
      },
      "source": [
        "print(\"Total de buracos: \", totalDeBuracos)\n",
        "print(\"Com mais de um buraco: \", numerosComMaisDeUmBuraco)"
      ],
      "execution_count": 17,
      "outputs": [
        {
          "output_type": "stream",
          "text": [
            "Total de buracos:  10\n",
            "Com mais de um buraco:  4\n"
          ],
          "name": "stdout"
        }
      ]
    },
    {
      "cell_type": "markdown",
      "metadata": {
        "id": "-ntaDdZnJoff"
      },
      "source": [
        "####R. Total de buracos:  10 e com mais de um buraco:  4"
      ]
    },
    {
      "cell_type": "markdown",
      "metadata": {
        "id": "MCK259I-W0-h"
      },
      "source": [
        "###c)\n",
        "\n",
        "Quantos quadrados e círculos a imagem possui?"
      ]
    },
    {
      "cell_type": "code",
      "metadata": {
        "id": "ADBvOaHrJnAi",
        "outputId": "831580e9-847b-4e80-f699-ec8a6ac1a73f",
        "colab": {
          "base_uri": "https://localhost:8080/",
          "height": 679
        }
      },
      "source": [
        "im_floodfill = imagembi.copy()\n",
        "\n",
        "h, w = imagembi.shape[:2]\n",
        "mask = np.zeros((h+2, w+2), np.uint8)\n",
        "cv2.floodFill(im_floodfill, mask, (0,0), 255);\n",
        "cv2_imshow(im_floodfill)\n",
        "\n",
        "\n",
        "im_floodfill_inv = cv2.bitwise_not(im_floodfill)\n",
        "im_out = imagembi | im_floodfill_inv\n",
        "cv2_imshow(im_out)\n",
        "\n",
        "contours2, hierarchy = cv2.findContours(im_out,cv2.RETR_CCOMP,cv2.CHAIN_APPROX_SIMPLE)"
      ],
      "execution_count": 20,
      "outputs": [
        {
          "output_type": "display_data",
          "data": {
            "image/png": "[encoded data removed]",
            "text/plain": [
              "<PIL.Image.Image image mode=L size=384x331 at 0x7FBDE56D3940>"
            ]
          },
          "metadata": {
            "tags": []
          }
        },
        {
          "output_type": "display_data",
          "data": {
            "image/png": "[encoded data removed]",
            "text/plain": [
              "<PIL.Image.Image image mode=L size=384x331 at 0x7FBDE56D3940>"
            ]
          },
          "metadata": {
            "tags": []
          }
        }
      ]
    },
    {
      "cell_type": "code",
      "metadata": {
        "id": "1LZ9AxEQcYkT",
        "outputId": "dd9989ba-9997-450f-91ff-f876449ed09f",
        "colab": {
          "base_uri": "https://localhost:8080/"
        }
      },
      "source": [
        "# *********************************\n",
        "# verifique o número de elementos nos contornos aproximados de todas as formas. \n",
        "# o quadrado terá 4, \n",
        "# Os círculos terão mais.\n",
        "# *********************************\n",
        "quadrado = 0\n",
        "circulo = 0 \n",
        "for cnt in contours2: \n",
        "  approx = cv2.approxPolyDP(cnt,0.01*cv2.arcLength(cnt,True),True) \n",
        "  # print(\"---> \",approx) \n",
        "  if len(approx)==4: \n",
        "     quadrado = quadrado + 1 \n",
        "  elif len(approx) > 10: \n",
        "      circulo = circulo + 1\n",
        "print(\"Quadrado : \",quadrado) \n",
        "print(\"circulo : \",circulo) "
      ],
      "execution_count": 21,
      "outputs": [
        {
          "output_type": "stream",
          "text": [
            "Quadrado :  11\n",
            "circulo :  16\n"
          ],
          "name": "stdout"
        }
      ]
    },
    {
      "cell_type": "markdown",
      "metadata": {
        "id": "1ku5mvFXMU2w"
      },
      "source": [
        "####R.  Quadrado : 11 Circulo : 16"
      ]
    },
    {
      "cell_type": "markdown",
      "metadata": {
        "id": "DJ_F7isJltf-"
      },
      "source": [
        "###d)\n",
        "Identifique os quadrados que possuem buracos e os círculos que\n",
        "não possuem buracos?"
      ]
    },
    {
      "cell_type": "code",
      "metadata": {
        "id": "eh2U-LxaKBYF"
      },
      "source": [
        "img_color = cv2.imread('./imagens/blocks.png')\n",
        "contours, hierarchy = cv2.findContours(imagembi,cv2.RETR_TREE,cv2.CHAIN_APPROX_SIMPLE)"
      ],
      "execution_count": 22,
      "outputs": []
    },
    {
      "cell_type": "code",
      "metadata": {
        "id": "R9oqGPhocFwl",
        "outputId": "b6880430-6af1-45f4-8a43-ea5d4fd8b813",
        "colab": {
          "base_uri": "https://localhost:8080/",
          "height": 1000
        }
      },
      "source": [
        "max_num = np.amax(hierarchy) +1\n",
        "\n",
        "imagem_final = img_color.copy()\n",
        "gray = cv2.cvtColor(imagem_final, cv2.COLOR_BGR2GRAY)\n",
        "edged = cv2.Canny(gray, 50, 100)\n",
        "\n",
        "contours2, hierarchy = cv2.findContours(imagembi,cv2.RETR_CCOMP,cv2.CHAIN_APPROX_SIMPLE)\n",
        "mask = np.ones(imagem_final.shape[:2], dtype=\"uint8\") * 255\n",
        "\n",
        "for c, h in zip(contours, hierarchy[0]):\n",
        "    approx = cv2.approxPolyDP(c,0.01*cv2.arcLength(c,True),True)\n",
        "    if h[2] != -1:\n",
        "      cv2.drawContours(mask, [c], -1, 0, -1)\n",
        "      if h[0] == -1:\n",
        "            num_interior_contours = max_num - h[2]\n",
        "      else: num_interior_contours = h[0]-h[2]\n",
        "    else: num_interior_contours = 0\n",
        "    if len(approx)==4 and num_interior_contours > 0:\n",
        "     cv2.drawContours(img_color, [c], -1, (255,0,255), 2)\n",
        "    if len(approx)==4: \n",
        "     cv2.drawContours(mask, [c], -1, 0, -1)\n",
        "\n",
        "image = cv2.bitwise_and(imagem_final, imagem_final, mask=mask)\n",
        "\n",
        "print(\"Mascara \")\n",
        "cv2_imshow(mask)\n",
        "\n",
        "print(\" --  Círculos que não possuem buracos -- \")\n",
        "cv2_imshow(image)\n",
        "\n",
        "print(\" --  Quadrados que possuem buracos -- \")\n",
        "cv2_imshow(img_color)\n"
      ],
      "execution_count": 23,
      "outputs": [
        {
          "output_type": "stream",
          "text": [
            "Mascara \n"
          ],
          "name": "stdout"
        },
        {
          "output_type": "display_data",
          "data": {
            "image/png": "[encoded data removed]",
            "text/plain": [
              "<PIL.Image.Image image mode=L size=384x331 at 0x7FBDE56ADEF0>"
            ]
          },
          "metadata": {
            "tags": []
          }
        },
        {
          "output_type": "stream",
          "text": [
            " --  Círculos que não possuem buracos -- \n"
          ],
          "name": "stdout"
        },
        {
          "output_type": "display_data",
          "data": {
            "image/png": "[encoded data removed]",
            "text/plain": [
              "<PIL.Image.Image image mode=RGB size=384x331 at 0x7FBDE56ADE80>"
            ]
          },
          "metadata": {
            "tags": []
          }
        },
        {
          "output_type": "stream",
          "text": [
            " --  Quadrados que possuem buracos -- \n"
          ],
          "name": "stdout"
        },
        {
          "output_type": "display_data",
          "data": {
            "image/png": "[encoded data removed]",
            "text/plain": [
              "<PIL.Image.Image image mode=RGB size=384x331 at 0x7FBDE56ADE10>"
            ]
          },
          "metadata": {
            "tags": []
          }
        }
      ]
    }
  ]
}