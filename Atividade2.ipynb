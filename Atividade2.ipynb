{
  "nbformat": 4,
  "nbformat_minor": 0,
  "metadata": {
    "colab": {
      "name": "Atividade 1 Parte B.ipynb",
      "provenance": [],
      "collapsed_sections": [
        "HROOjF7RWdAR",
        "jCu7i8djWosv",
        "ehMWiHKPFGTq",
        "Xx-XRcHdFjTc",
        "wTkp2h6uF4e5",
        "YXdwpYqlGP27",
        "_z4HGOZRGmpy",
        "MCK259I-W0-h",
        "3AZknfKUND3t",
        "6UscSup9Nn7O",
        "mG7MwSMONuwx"
      ],
      "toc_visible": true,
      "include_colab_link": true
    },
    "kernelspec": {
      "name": "python3",
      "display_name": "Python 3"
    }
  },
  "cells": [
    {
      "cell_type": "markdown",
      "metadata": {
        "id": "view-in-github",
        "colab_type": "text"
      },
      "source": [
        "<a href=\"https://colab.research.google.com/github/girotodenis/ReconhecimentoImagemVisaoComputacional/blob/master/Atividade2.ipynb\" target=\"_parent\"><img src=\"https://colab.research.google.com/assets/colab-badge.svg\" alt=\"Open In Colab\"/></a>"
      ]
    },
    {
      "cell_type": "markdown",
      "metadata": {
        "id": "8m6vjbp3l4f6"
      },
      "source": [
        "NOME COMPLETO DOS INTEGRANTES DO GRUPO:\n",
        "**Davi Miranda Gonçalves**, \n",
        "**Denis SIlva Giroto**,\n",
        "**Naiara Moura Pires**\n",
        "\n",
        "MATRÍCULAS DOS INTEGRANTES DO GRUPO:\n",
        "**1931143030**,\n",
        "**1931143029**,\n",
        "**1931143033**\n"
      ]
    },
    {
      "cell_type": "code",
      "metadata": {
        "id": "P25m13QKTM8O",
        "outputId": "6a5391e8-03af-4039-c46f-f7af477e7b0b",
        "colab": {
          "base_uri": "https://localhost:8080/"
        }
      },
      "source": [
        "# Clone the entire repo.\n",
        "!git clone -l -s https://github.com/girotodenis/ReconhecimentoImagemVisaoComputacional.git cloned-repo"
      ],
      "execution_count": 2,
      "outputs": [
        {
          "output_type": "stream",
          "text": [
            "Cloning into 'cloned-repo'...\n",
            "warning: --local is ignored\n",
            "remote: Enumerating objects: 106, done.\u001b[K\n",
            "remote: Counting objects: 100% (106/106), done.\u001b[K\n",
            "remote: Compressing objects: 100% (102/102), done.\u001b[K\n",
            "remote: Total 106 (delta 49), reused 20 (delta 2), pack-reused 0\u001b[K\n",
            "Receiving objects: 100% (106/106), 17.76 MiB | 6.85 MiB/s, done.\n",
            "Resolving deltas: 100% (49/49), done.\n"
          ],
          "name": "stdout"
        }
      ]
    },
    {
      "cell_type": "code",
      "metadata": {
        "id": "1wuhgYW9sA0P",
        "outputId": "00ed0a7c-5340-46b0-9635-adf792e258bf",
        "colab": {
          "base_uri": "https://localhost:8080/"
        }
      },
      "source": [
        "%cd cloned-repo\n",
        "!ls"
      ],
      "execution_count": 3,
      "outputs": [
        {
          "output_type": "stream",
          "text": [
            "/content/cloned-repo\n",
            "Atividade1.ipynb  Atividade2.ipynb  imagens  README.md\n"
          ],
          "name": "stdout"
        }
      ]
    },
    {
      "cell_type": "code",
      "metadata": {
        "id": "Q647hGJKWsFw"
      },
      "source": [
        "from google.colab.patches import cv2_imshow\n",
        "%matplotlib inline\n",
        "from matplotlib import pyplot as plt\n",
        "import cv2\n",
        "import os\n",
        "import numpy as np"
      ],
      "execution_count": 14,
      "outputs": []
    },
    {
      "cell_type": "code",
      "metadata": {
        "id": "CMdFhhvaZsZf",
        "outputId": "3fce1b5f-73ed-4f77-82cc-d51133efa925",
        "colab": {
          "base_uri": "https://localhost:8080/"
        }
      },
      "source": [
        "execution_path = os.getcwd()\n",
        "print(execution_path)"
      ],
      "execution_count": 5,
      "outputs": [
        {
          "output_type": "stream",
          "text": [
            "/content/cloned-repo\n"
          ],
          "name": "stdout"
        }
      ]
    },
    {
      "cell_type": "markdown",
      "metadata": {
        "id": "FvLjpiFdWN4r"
      },
      "source": [
        "#Atividade 1\n",
        "\n"
      ]
    },
    {
      "cell_type": "markdown",
      "metadata": {
        "id": "HROOjF7RWdAR"
      },
      "source": [
        "##Exercício 1\n",
        "\n",
        "Escreva um programa em que o limiar seja estimado\n",
        "automaticamente usando a técnica de Global Thresholding. A saída\n",
        "deve ser uma imagem binarizada e a entrada de ser a imagem\n",
        "fingerPrint.png. Qual a relação que existe entre o limiar e o número\n",
        "de iterações?"
      ]
    },
    {
      "cell_type": "code",
      "metadata": {
        "id": "WBPu9nQjKHrO"
      },
      "source": [
        "def estimar_limiar_otsu(imagem):\n",
        "  hist = cv2.calcHist([imagem],[0],None,[256],[0,256])\n",
        "  hist_norm = hist.ravel()/hist.max()\n",
        "\n",
        "  plt.hist(hist_norm, bins=256)\n",
        "  plt.show()\n",
        "\n",
        "  Q = hist_norm.cumsum()\n",
        "  bins = np.arange(256)\n",
        "  fn_min = np.inf\n",
        "  limiar = -1\n",
        "  for i in range(1,256):\n",
        "      p1,p2 = np.hsplit(hist_norm,[i]) \n",
        "      q1,q2 = Q[i],Q[255]-Q[i] \n",
        "      b1,b2 = np.hsplit(bins,[i])\n",
        "      m1,m2 = np.sum(p1*b1)/q1, np.sum(p2*b2)/q2\n",
        "      v1,v2 = np.sum(((b1-m1)**2)*p1)/q1,np.sum(((b2-m2)**2)*p2)/q2\n",
        "      fn = v1*q1 + v2*q2\n",
        "      if fn < fn_min:\n",
        "          fn_min = fn\n",
        "          limiar = i\n",
        "  return limiar\n",
        "\n",
        "def global_thresholding(imagem):\n",
        "  limiar = estimar_limiar_otsu(imagem)\n",
        "  print('limiar',limiar)\n",
        "  limiar, imgLimiar = cv2.threshold(imagem, limiar, 256,cv2.THRESH_BINARY)\n",
        "  print('limiar',limiar)\n",
        "  return imgLimiar\n",
        "\n",
        "\n"
      ],
      "execution_count": 93,
      "outputs": []
    },
    {
      "cell_type": "code",
      "metadata": {
        "id": "UBlr8xsETXaW",
        "outputId": "d619c4da-8417-4d9f-adca-ad1a3173e9e3",
        "colab": {
          "base_uri": "https://localhost:8080/",
          "height": 1000
        }
      },
      "source": [
        "imagem = cv2.imread('./imagens/fingerPrint.png',0) \n",
        "#imagem = cv2.GaussianBlur(imagem, (5, 5), 0) \n",
        "imgLimiar = global_thresholding( imagem ) \n",
        "cv2_imshow( imgLimiar )"
      ],
      "execution_count": 94,
      "outputs": [
        {
          "output_type": "display_data",
          "data": {
            "image/png": "[encoded data removed]",
            "text/plain": [
              "<Figure size 432x288 with 1 Axes>"
            ]
          },
          "metadata": {
            "tags": [],
            "needs_background": "light"
          }
        },
        {
          "output_type": "stream",
          "text": [
            "limiar 126\n",
            "limiar 126.0\n"
          ],
          "name": "stdout"
        },
        {
          "output_type": "stream",
          "text": [
            "/usr/local/lib/python3.6/dist-packages/ipykernel_launcher.py:17: RuntimeWarning: invalid value encountered in double_scalars\n",
            "/usr/local/lib/python3.6/dist-packages/ipykernel_launcher.py:17: RuntimeWarning: divide by zero encountered in double_scalars\n",
            "/usr/local/lib/python3.6/dist-packages/ipykernel_launcher.py:18: RuntimeWarning: invalid value encountered in multiply\n"
          ],
          "name": "stderr"
        },
        {
          "output_type": "display_data",
          "data": {
            "image/png": "[encoded data removed]",
            "text/plain": [
              "<PIL.Image.Image image mode=L size=798x958 at 0x7F9992E57D30>"
            ]
          },
          "metadata": {
            "tags": []
          }
        }
      ]
    },
    {
      "cell_type": "markdown",
      "metadata": {
        "id": "vfvghYuUKH5O"
      },
      "source": [
        "####R. \n",
        "Quanto mais interações mais o EM(Expectation-Maximization) vai convergir. Melhora a precisão de encontrar o melhor linear."
      ]
    },
    {
      "cell_type": "markdown",
      "metadata": {
        "id": "AXT_n_ebUOse"
      },
      "source": [
        "##Exercício 2\n",
        "A imagem abaixo possui círculos e quadrados de vários tamanhos.\n",
        "Alguns objetos possuem um ou dois buracos dentro deles. Faça um\n",
        "algoritmo que use operações morfológicas e lógicas para responder\n",
        "as perguntas abaixo."
      ]
    },
    {
      "cell_type": "markdown",
      "metadata": {
        "id": "jCu7i8djWosv"
      },
      "source": [
        "###a)\n",
        "\n",
        "Que fração dos pixels da imagem são brancos? Quantos objetos a\n",
        "imagem possui?"
      ]
    },
    {
      "cell_type": "code",
      "metadata": {
        "id": "TBi48_bEJwv2"
      },
      "source": [
        ""
      ],
      "execution_count": null,
      "outputs": []
    },
    {
      "cell_type": "markdown",
      "metadata": {
        "id": "l4mH85QJJtis"
      },
      "source": [
        "####R.\n"
      ]
    },
    {
      "cell_type": "markdown",
      "metadata": {
        "id": "lTjyKbPKWu5t"
      },
      "source": [
        "###b)\n",
        "\n",
        "Quantos buracos há na imagem? Quantos objetos têm mais de um\n",
        "buraco?"
      ]
    },
    {
      "cell_type": "code",
      "metadata": {
        "id": "pSWJpkpkJxh4"
      },
      "source": [
        ""
      ],
      "execution_count": null,
      "outputs": []
    },
    {
      "cell_type": "markdown",
      "metadata": {
        "id": "-ntaDdZnJoff"
      },
      "source": [
        "####R.\n"
      ]
    },
    {
      "cell_type": "markdown",
      "metadata": {
        "id": "MCK259I-W0-h"
      },
      "source": [
        "###c)\n",
        "\n",
        "Quantos quadrados e círculos a imagem possui?"
      ]
    },
    {
      "cell_type": "code",
      "metadata": {
        "id": "ADBvOaHrJnAi"
      },
      "source": [
        ""
      ],
      "execution_count": null,
      "outputs": []
    },
    {
      "cell_type": "markdown",
      "metadata": {
        "id": "1ku5mvFXMU2w"
      },
      "source": [
        "####R.  "
      ]
    },
    {
      "cell_type": "markdown",
      "metadata": {
        "id": "DJ_F7isJltf-"
      },
      "source": [
        "###d)\n",
        "Identifique os quadrados que possuem buracos e os círculos que\n",
        "não possuem buracos?"
      ]
    },
    {
      "cell_type": "code",
      "metadata": {
        "id": "eh2U-LxaKBYF"
      },
      "source": [
        ""
      ],
      "execution_count": null,
      "outputs": []
    },
    {
      "cell_type": "markdown",
      "metadata": {
        "id": "DqSYEygiJ_Uv"
      },
      "source": [
        "####R."
      ]
    },
    {
      "cell_type": "code",
      "metadata": {
        "id": "mK2mXY5NUU1Q"
      },
      "source": [
        ""
      ],
      "execution_count": null,
      "outputs": []
    }
  ]
}